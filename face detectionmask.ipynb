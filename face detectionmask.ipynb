{
 "cells": [
  {
   "cell_type": "code",
   "execution_count": 2,
   "metadata": {},
   "outputs": [],
   "source": [
    "import cv2, os"
   ]
  },
  {
   "cell_type": "code",
   "execution_count": 3,
   "metadata": {},
   "outputs": [],
   "source": [
    "data_set = 'dataset'\n",
    "categories = os.listdir(data_set)\n",
    "labels=[i for i in range (len(categories))]\n",
    "\n",
    "label_dict = dict(zip(categories,labels))"
   ]
  },
  {
   "cell_type": "code",
   "execution_count": 4,
   "metadata": {},
   "outputs": [
    {
     "name": "stdout",
     "output_type": "stream",
     "text": [
      "{'with mask': 0, 'without mask': 1}\n",
      "['with mask', 'without mask']\n",
      "[0, 1]\n"
     ]
    }
   ],
   "source": [
    "print(label_dict)\n",
    "print(categories)\n",
    "print(labels)"
   ]
  },
  {
   "cell_type": "code",
   "execution_count": 5,
   "metadata": {},
   "outputs": [],
   "source": [
    "data=[]\n",
    "target=[]\n",
    "\n",
    "\n",
    "\n",
    "for category in categories:\n",
    "    folder_path=os.path.join(data_set,category)\n",
    "    img_names=os.listdir(folder_path)\n",
    "        \n",
    "    for img_name in img_names:\n",
    "        img_path=os.path.join(folder_path,img_name)\n",
    "        img=cv2.imread(img_path)\n",
    "        try:\n",
    "            gray=cv2.cvtColor(img,cv2.COLOR_BGR2GRAY)           \n",
    "            resized=cv2.resize(gray,(50,50))\n",
    "            data.append(resized)\n",
    "            target.append(label_dict[category])\n",
    "            \n",
    "        except Exception as e:\n",
    "            print('Exception:',e)\n",
    "        "
   ]
  },
  {
   "cell_type": "code",
   "execution_count": 6,
   "metadata": {},
   "outputs": [
    {
     "name": "stderr",
     "output_type": "stream",
     "text": [
      "Using TensorFlow backend.\n"
     ]
    }
   ],
   "source": [
    "import numpy as np\n",
    "\n",
    "data=np.array(data)/255\n",
    "data=np.reshape(data,(data.shape[0],50,50,1))\n",
    "target=np.array(target)\n",
    "\n",
    "from keras.utils import np_utils\n",
    "\n",
    "new_target=np_utils.to_categorical(target)"
   ]
  },
  {
   "cell_type": "code",
   "execution_count": 7,
   "metadata": {},
   "outputs": [],
   "source": [
    "np.save('data',data)\n",
    "np.save('target',new_target)"
   ]
  },
  {
   "cell_type": "markdown",
   "metadata": {},
   "source": [
    "# TRAINING OUR MODEL\n"
   ]
  },
  {
   "cell_type": "code",
   "execution_count": 8,
   "metadata": {},
   "outputs": [],
   "source": [
    "import numpy as np\n",
    "\n",
    "data=np.load('data.npy')\n",
    "target=np.load('target.npy')"
   ]
  },
  {
   "cell_type": "code",
   "execution_count": 9,
   "metadata": {},
   "outputs": [],
   "source": [
    "from keras.models import Sequential\n",
    "from keras.layers import Dense,Activation,Flatten,Dropout\n",
    "from keras.layers import Conv2D,MaxPooling2D\n",
    "from keras.callbacks import ModelCheckpoint"
   ]
  },
  {
   "cell_type": "code",
   "execution_count": 10,
   "metadata": {},
   "outputs": [
    {
     "name": "stdout",
     "output_type": "stream",
     "text": [
      "WARNING:tensorflow:From C:\\Users\\KIIT\\Anaconda3\\lib\\site-packages\\tensorflow\\python\\ops\\resource_variable_ops.py:435: colocate_with (from tensorflow.python.framework.ops) is deprecated and will be removed in a future version.\n",
      "Instructions for updating:\n",
      "Colocations handled automatically by placer.\n"
     ]
    }
   ],
   "source": [
    "model=Sequential()\n",
    "\n",
    "model.add(Conv2D(100,(3,3),input_shape=data.shape[1:]))\n",
    "model.add(Activation('relu'))\n",
    "model.add(MaxPooling2D(pool_size=(2,2)))\n",
    "\n",
    "\n",
    "model.add(Conv2D(300, (3,3), activation = 'relu'))\n",
    "model.add(MaxPooling2D(pool_size=(2,2)))\n",
    "\n",
    "model.add(Flatten())\n",
    "model.add(Dropout(0.2))\n",
    "model.add(Dense(200,activation='relu'))\n",
    "model.add(Dense(100, activation='relu'))\n",
    "model.add(Dense(50, activation='relu'))\n",
    "model.add(Dense(25,activation='relu'))\n",
    "model.add(Dense(2,activation='softmax'))\n",
    "\n",
    "model.compile(loss='binary_crossentropy',optimizer='adam',metrics=['accuracy'])\n"
   ]
  },
  {
   "cell_type": "code",
   "execution_count": 11,
   "metadata": {},
   "outputs": [],
   "source": [
    "from sklearn.model_selection import train_test_split\n",
    "\n",
    "train_data,test_data,train_target,test_target=train_test_split(data,target,test_size=0.1)"
   ]
  },
  {
   "cell_type": "code",
   "execution_count": 12,
   "metadata": {},
   "outputs": [
    {
     "name": "stdout",
     "output_type": "stream",
     "text": [
      "WARNING:tensorflow:From C:\\Users\\KIIT\\Anaconda3\\lib\\site-packages\\tensorflow\\python\\ops\\math_ops.py:3066: to_int32 (from tensorflow.python.ops.math_ops) is deprecated and will be removed in a future version.\n",
      "Instructions for updating:\n",
      "Use tf.cast instead.\n",
      "Train on 1242 samples, validate on 138 samples\n",
      "Epoch 1/20\n",
      "1242/1242 [==============================] - 24s 20ms/step - loss: 0.6704 - accuracy: 0.6167 - val_loss: 0.6027 - val_accuracy: 0.6667\n",
      "Epoch 2/20\n",
      "1242/1242 [==============================] - 26s 21ms/step - loss: 0.4210 - accuracy: 0.8003 - val_loss: 0.2765 - val_accuracy: 0.8986\n",
      "Epoch 3/20\n",
      "1242/1242 [==============================] - 26s 21ms/step - loss: 0.2060 - accuracy: 0.9195 - val_loss: 0.1664 - val_accuracy: 0.9710\n",
      "Epoch 4/20\n",
      "1242/1242 [==============================] - 27s 21ms/step - loss: 0.1130 - accuracy: 0.9549 - val_loss: 0.2215 - val_accuracy: 0.9203\n",
      "Epoch 5/20\n",
      "1242/1242 [==============================] - 27s 22ms/step - loss: 0.0795 - accuracy: 0.9702 - val_loss: 0.1722 - val_accuracy: 0.9420\n",
      "Epoch 6/20\n",
      "1242/1242 [==============================] - 26s 21ms/step - loss: 0.0589 - accuracy: 0.9799 - val_loss: 0.1518 - val_accuracy: 0.9565\n",
      "Epoch 7/20\n",
      "1242/1242 [==============================] - 26s 21ms/step - loss: 0.0369 - accuracy: 0.9887 - val_loss: 0.1814 - val_accuracy: 0.9493\n",
      "Epoch 8/20\n",
      "1242/1242 [==============================] - 26s 21ms/step - loss: 0.0721 - accuracy: 0.9718 - val_loss: 0.1897 - val_accuracy: 0.9638\n",
      "Epoch 9/20\n",
      "1242/1242 [==============================] - 27s 21ms/step - loss: 0.0489 - accuracy: 0.9839 - val_loss: 0.2044 - val_accuracy: 0.9493\n",
      "Epoch 10/20\n",
      "1242/1242 [==============================] - 27s 21ms/step - loss: 0.0402 - accuracy: 0.9847 - val_loss: 0.1648 - val_accuracy: 0.9783\n",
      "Epoch 11/20\n",
      "1242/1242 [==============================] - 26s 21ms/step - loss: 0.0220 - accuracy: 0.9919 - val_loss: 0.1623 - val_accuracy: 0.9565\n",
      "Epoch 12/20\n",
      "1242/1242 [==============================] - 26s 21ms/step - loss: 0.0145 - accuracy: 0.9960 - val_loss: 0.2341 - val_accuracy: 0.9565\n",
      "Epoch 13/20\n",
      "1242/1242 [==============================] - 27s 21ms/step - loss: 0.0154 - accuracy: 0.9960 - val_loss: 0.1425 - val_accuracy: 0.9565\n",
      "Epoch 14/20\n",
      "1242/1242 [==============================] - 27s 22ms/step - loss: 0.0063 - accuracy: 0.9976 - val_loss: 0.2169 - val_accuracy: 0.9565\n",
      "Epoch 15/20\n",
      "1242/1242 [==============================] - 27s 21ms/step - loss: 0.0198 - accuracy: 0.9936 - val_loss: 0.2197 - val_accuracy: 0.9638\n",
      "Epoch 16/20\n",
      "1242/1242 [==============================] - 27s 22ms/step - loss: 0.0078 - accuracy: 0.9968 - val_loss: 0.1746 - val_accuracy: 0.9638\n",
      "Epoch 17/20\n",
      "1242/1242 [==============================] - 27s 22ms/step - loss: 0.0154 - accuracy: 0.9952 - val_loss: 0.2148 - val_accuracy: 0.9275\n",
      "Epoch 18/20\n",
      "1242/1242 [==============================] - 26s 21ms/step - loss: 0.0482 - accuracy: 0.9823 - val_loss: 0.1644 - val_accuracy: 0.9420\n",
      "Epoch 19/20\n",
      "1242/1242 [==============================] - 26s 21ms/step - loss: 0.0193 - accuracy: 0.9936 - val_loss: 0.1047 - val_accuracy: 0.9783\n",
      "Epoch 20/20\n",
      "1242/1242 [==============================] - 27s 21ms/step - loss: 0.0127 - accuracy: 0.9960 - val_loss: 0.0998 - val_accuracy: 0.9638\n"
     ]
    }
   ],
   "source": [
    "checkpoint = ModelCheckpoint('model-{epoch:02d}.model',monitor='val_loss',verbose=0,mode='auto')\n",
    "history = model.fit(train_data, train_target, epochs = 20, callbacks=[checkpoint], validation_data=(test_data, test_target))"
   ]
  },
  {
   "cell_type": "code",
   "execution_count": 13,
   "metadata": {},
   "outputs": [],
   "source": [
    " from matplotlib import pyplot as plt\n"
   ]
  },
  {
   "cell_type": "code",
   "execution_count": 14,
   "metadata": {},
   "outputs": [
    {
     "data": {
      "image/png": "[encoded data removed]",
      "text/plain": [
       "<Figure size 432x288 with 1 Axes>"
      ]
     },
     "metadata": {
      "needs_background": "light"
     },
     "output_type": "display_data"
    }
   ],
   "source": [
    "from matplotlib import pyplot as plt\n",
    "\n",
    "plt.plot(history.history['loss'],'r',label='training loss')\n",
    "plt.plot(history.history['val_loss'],label='validation loss')\n",
    "plt.xlabel('# epochs')\n",
    "plt.ylabel('loss')\n",
    "plt.legend()\n",
    "plt.show()"
   ]
  },
  {
   "cell_type": "code",
   "execution_count": 15,
   "metadata": {},
   "outputs": [
    {
     "data": {
      "image/png": "[encoded data removed]",
      "text/plain": [
       "<Figure size 432x288 with 1 Axes>"
      ]
     },
     "metadata": {
      "needs_background": "light"
     },
     "output_type": "display_data"
    }
   ],
   "source": [
    "plt.plot(history.history['accuracy'],'r',label='training accuracy')\n",
    "plt.plot(history.history['val_accuracy'],label='validation accuracy')\n",
    "plt.xlabel('# epochs')\n",
    "plt.ylabel('loss')\n",
    "plt.legend()\n",
    "plt.show()\n"
   ]
  },
  {
   "cell_type": "code",
   "execution_count": 16,
   "metadata": {},
   "outputs": [
    {
     "name": "stdout",
     "output_type": "stream",
     "text": [
      "138/138 [==============================] - 1s 6ms/step\n",
      "[0.09977561856309573, 0.9637681245803833]\n"
     ]
    }
   ],
   "source": [
    "print(model.evaluate(test_data,test_target))"
   ]
  },
  {
   "cell_type": "code",
   "execution_count": 17,
   "metadata": {},
   "outputs": [
    {
     "name": "stdout",
     "output_type": "stream",
     "text": [
      "[[[[0.20392157]\n",
      "   [0.25490196]\n",
      "   [0.19215686]\n",
      "   ...\n",
      "   [0.1372549 ]\n",
      "   [0.28235294]\n",
      "   [0.17647059]]\n",
      "\n",
      "  [[0.20392157]\n",
      "   [0.14901961]\n",
      "   [0.1254902 ]\n",
      "   ...\n",
      "   [0.16862745]\n",
      "   [0.3372549 ]\n",
      "   [0.00784314]]\n",
      "\n",
      "  [[0.24705882]\n",
      "   [0.10980392]\n",
      "   [0.20392157]\n",
      "   ...\n",
      "   [0.01960784]\n",
      "   [0.22745098]\n",
      "   [0.05882353]]\n",
      "\n",
      "  ...\n",
      "\n",
      "  [[0.29019608]\n",
      "   [0.30588235]\n",
      "   [0.29411765]\n",
      "   ...\n",
      "   [0.10980392]\n",
      "   [0.01176471]\n",
      "   [0.02352941]]\n",
      "\n",
      "  [[0.31372549]\n",
      "   [0.29803922]\n",
      "   [0.32156863]\n",
      "   ...\n",
      "   [0.16862745]\n",
      "   [0.00392157]\n",
      "   [0.05098039]]\n",
      "\n",
      "  [[0.24313725]\n",
      "   [0.22352941]\n",
      "   [0.35686275]\n",
      "   ...\n",
      "   [0.03529412]\n",
      "   [0.04705882]\n",
      "   [0.04313725]]]\n",
      "\n",
      "\n",
      " [[[0.98039216]\n",
      "   [0.98431373]\n",
      "   [0.98431373]\n",
      "   ...\n",
      "   [0.98823529]\n",
      "   [0.98823529]\n",
      "   [0.98431373]]\n",
      "\n",
      "  [[0.98431373]\n",
      "   [0.98431373]\n",
      "   [0.98823529]\n",
      "   ...\n",
      "   [0.98823529]\n",
      "   [0.98823529]\n",
      "   [0.98823529]]\n",
      "\n",
      "  [[0.98431373]\n",
      "   [0.98431373]\n",
      "   [0.98823529]\n",
      "   ...\n",
      "   [0.98823529]\n",
      "   [0.98823529]\n",
      "   [0.98823529]]\n",
      "\n",
      "  ...\n",
      "\n",
      "  [[1.        ]\n",
      "   [1.        ]\n",
      "   [1.        ]\n",
      "   ...\n",
      "   [0.09019608]\n",
      "   [0.09411765]\n",
      "   [0.09019608]]\n",
      "\n",
      "  [[1.        ]\n",
      "   [1.        ]\n",
      "   [1.        ]\n",
      "   ...\n",
      "   [0.09019608]\n",
      "   [0.09411765]\n",
      "   [0.09411765]]\n",
      "\n",
      "  [[1.        ]\n",
      "   [1.        ]\n",
      "   [1.        ]\n",
      "   ...\n",
      "   [0.08235294]\n",
      "   [0.09019608]\n",
      "   [0.09411765]]]\n",
      "\n",
      "\n",
      " [[[0.88235294]\n",
      "   [0.89411765]\n",
      "   [0.90196078]\n",
      "   ...\n",
      "   [0.82745098]\n",
      "   [0.80392157]\n",
      "   [0.76470588]]\n",
      "\n",
      "  [[0.89803922]\n",
      "   [0.90196078]\n",
      "   [0.90588235]\n",
      "   ...\n",
      "   [0.84313725]\n",
      "   [0.81960784]\n",
      "   [0.78823529]]\n",
      "\n",
      "  [[0.90588235]\n",
      "   [0.90588235]\n",
      "   [0.90588235]\n",
      "   ...\n",
      "   [0.84705882]\n",
      "   [0.83137255]\n",
      "   [0.80784314]]\n",
      "\n",
      "  ...\n",
      "\n",
      "  [[0.6627451 ]\n",
      "   [0.76862745]\n",
      "   [0.81960784]\n",
      "   ...\n",
      "   [0.21568627]\n",
      "   [0.18823529]\n",
      "   [0.1254902 ]]\n",
      "\n",
      "  [[0.73333333]\n",
      "   [0.77647059]\n",
      "   [0.58039216]\n",
      "   ...\n",
      "   [0.20784314]\n",
      "   [0.18039216]\n",
      "   [0.11372549]]\n",
      "\n",
      "  [[0.76078431]\n",
      "   [0.70196078]\n",
      "   [0.75294118]\n",
      "   ...\n",
      "   [0.18431373]\n",
      "   [0.16078431]\n",
      "   [0.11372549]]]\n",
      "\n",
      "\n",
      " ...\n",
      "\n",
      "\n",
      " [[[0.        ]\n",
      "   [0.        ]\n",
      "   [0.        ]\n",
      "   ...\n",
      "   [0.        ]\n",
      "   [0.        ]\n",
      "   [0.        ]]\n",
      "\n",
      "  [[0.        ]\n",
      "   [0.        ]\n",
      "   [0.        ]\n",
      "   ...\n",
      "   [0.        ]\n",
      "   [0.        ]\n",
      "   [0.        ]]\n",
      "\n",
      "  [[0.        ]\n",
      "   [0.        ]\n",
      "   [0.        ]\n",
      "   ...\n",
      "   [0.        ]\n",
      "   [0.        ]\n",
      "   [0.        ]]\n",
      "\n",
      "  ...\n",
      "\n",
      "  [[0.        ]\n",
      "   [0.        ]\n",
      "   [0.        ]\n",
      "   ...\n",
      "   [0.01176471]\n",
      "   [0.00392157]\n",
      "   [0.        ]]\n",
      "\n",
      "  [[0.        ]\n",
      "   [0.        ]\n",
      "   [0.        ]\n",
      "   ...\n",
      "   [0.00392157]\n",
      "   [0.00392157]\n",
      "   [0.        ]]\n",
      "\n",
      "  [[0.        ]\n",
      "   [0.        ]\n",
      "   [0.        ]\n",
      "   ...\n",
      "   [0.        ]\n",
      "   [0.        ]\n",
      "   [0.        ]]]\n",
      "\n",
      "\n",
      " [[[0.92941176]\n",
      "   [0.91764706]\n",
      "   [0.95686275]\n",
      "   ...\n",
      "   [0.96078431]\n",
      "   [0.90980392]\n",
      "   [0.91764706]]\n",
      "\n",
      "  [[0.87058824]\n",
      "   [0.8745098 ]\n",
      "   [0.90196078]\n",
      "   ...\n",
      "   [0.90196078]\n",
      "   [0.90196078]\n",
      "   [0.83921569]]\n",
      "\n",
      "  [[0.89803922]\n",
      "   [0.94509804]\n",
      "   [0.96470588]\n",
      "   ...\n",
      "   [0.94117647]\n",
      "   [0.95686275]\n",
      "   [0.87843137]]\n",
      "\n",
      "  ...\n",
      "\n",
      "  [[0.0745098 ]\n",
      "   [0.05490196]\n",
      "   [0.10588235]\n",
      "   ...\n",
      "   [0.05882353]\n",
      "   [0.9372549 ]\n",
      "   [0.95686275]]\n",
      "\n",
      "  [[0.10980392]\n",
      "   [0.10980392]\n",
      "   [0.04313725]\n",
      "   ...\n",
      "   [0.08235294]\n",
      "   [0.09803922]\n",
      "   [0.98039216]]\n",
      "\n",
      "  [[0.11764706]\n",
      "   [0.0627451 ]\n",
      "   [0.0745098 ]\n",
      "   ...\n",
      "   [0.08627451]\n",
      "   [0.09019608]\n",
      "   [0.79607843]]]\n",
      "\n",
      "\n",
      " [[[0.94117647]\n",
      "   [0.95686275]\n",
      "   [0.9254902 ]\n",
      "   ...\n",
      "   [0.88627451]\n",
      "   [0.88627451]\n",
      "   [0.94117647]]\n",
      "\n",
      "  [[0.88627451]\n",
      "   [0.91372549]\n",
      "   [0.89019608]\n",
      "   ...\n",
      "   [0.95294118]\n",
      "   [0.97647059]\n",
      "   [0.9254902 ]]\n",
      "\n",
      "  [[0.8745098 ]\n",
      "   [0.91764706]\n",
      "   [0.96078431]\n",
      "   ...\n",
      "   [0.94117647]\n",
      "   [0.90588235]\n",
      "   [0.85490196]]\n",
      "\n",
      "  ...\n",
      "\n",
      "  [[0.03921569]\n",
      "   [0.02745098]\n",
      "   [0.14117647]\n",
      "   ...\n",
      "   [0.09803922]\n",
      "   [0.88627451]\n",
      "   [0.86666667]]\n",
      "\n",
      "  [[0.11372549]\n",
      "   [0.06666667]\n",
      "   [0.05490196]\n",
      "   ...\n",
      "   [0.11372549]\n",
      "   [0.10980392]\n",
      "   [0.96470588]]\n",
      "\n",
      "  [[0.09019608]\n",
      "   [0.10588235]\n",
      "   [0.0745098 ]\n",
      "   ...\n",
      "   [0.10196078]\n",
      "   [0.13333333]\n",
      "   [0.83137255]]]]\n"
     ]
    }
   ],
   "source": [
    "print(data)"
   ]
  },
  {
   "cell_type": "code",
   "execution_count": 18,
   "metadata": {},
   "outputs": [
    {
     "name": "stdout",
     "output_type": "stream",
     "text": [
      "0.97826087474823\n"
     ]
    }
   ],
   "source": [
    "print(max(history.history['val_accuracy']))"
   ]
  },
  {
   "cell_type": "markdown",
   "metadata": {},
   "source": [
    "# FACE MASK DETECTION CODE\n"
   ]
  },
  {
   "cell_type": "code",
   "execution_count": 19,
   "metadata": {},
   "outputs": [],
   "source": [
    "from keras.models import load_model\n",
    "import cv2\n",
    "import numpy as np"
   ]
  },
  {
   "cell_type": "code",
   "execution_count": 20,
   "metadata": {},
   "outputs": [
    {
     "name": "stdout",
     "output_type": "stream",
     "text": [
      "Video is ON\n"
     ]
    }
   ],
   "source": [
    "model = load_model('model-18.model')\n",
    "\n",
    "face_clsfr=cv2.CascadeClassifier('haarcascade_frontalface_default.xml')\n",
    "\n",
    "source=cv2.VideoCapture(0)\n",
    "print (\"Video is ON\")\n",
    "\n",
    "labels_dict={0:'with_mask',1:'without_mask'}\n",
    "color_dict={0:(0,255,0),1:(0,0,255)}"
   ]
  },
  {
   "cell_type": "code",
   "execution_count": 21,
   "metadata": {},
   "outputs": [],
   "source": [
    "while(True):\n",
    "\n",
    "    ret,img=source.read()\n",
    "    gray=cv2.cvtColor(img,cv2.COLOR_BGR2GRAY)\n",
    "    faces=face_clsfr.detectMultiScale(gray,1.1,10)  \n",
    "\n",
    "    for x,y,w,h in faces:\n",
    "    \n",
    "        face_img=gray[y:y+w,x:x+w]\n",
    "        resized=cv2.resize(face_img,(50,50))\n",
    "        normalized=resized/255\n",
    "        reshaped=np.reshape(normalized,(1,50,50,1))\n",
    "        result=model.predict(reshaped)\n",
    "\n",
    "        label=np.argmax(result,axis=1)[0]\n",
    "      \n",
    "        cv2.rectangle(img,(x,y),(x+w,y+h),color_dict[label],2)\n",
    "        cv2.rectangle(img,(x,y-40),(x+w,y),color_dict[label],-1)\n",
    "        cv2.putText(img, labels_dict[label], (x, y-10),cv2.FONT_HERSHEY_SIMPLEX,0.8,(255,255,255),2)\n",
    "        \n",
    "        \n",
    "    cv2.imshow('LIVE',img)\n",
    "    key=cv2.waitKey(1)\n",
    "    \n",
    "    if(key==27):\n",
    "        break\n",
    "        \n",
    "cv2.destroyAllWindows()\n",
    "source.release()"
   ]
  },
  {
   "cell_type": "code",
   "execution_count": null,
   "metadata": {},
   "outputs": [],
   "source": []
  }
 ],
 "metadata": {
  "kernelspec": {
   "display_name": "Python 3",
   "language": "python",
   "name": "python3"
  },
  "language_info": {
   "codemirror_mode": {
    "name": "ipython",
    "version": 3
   },
   "file_extension": ".py",
   "mimetype": "text/x-python",
   "name": "python",
   "nbconvert_exporter": "python",
   "pygments_lexer": "ipython3",
   "version": "3.7.4"
  }
 },
 "nbformat": 4,
 "nbformat_minor": 2
}
